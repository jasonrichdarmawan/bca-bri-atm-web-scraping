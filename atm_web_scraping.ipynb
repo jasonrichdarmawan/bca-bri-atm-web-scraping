{
 "cells": [
  {
   "cell_type": "code",
   "execution_count": 5,
   "metadata": {},
   "outputs": [],
   "source": [
    "# Import Libraries\n",
    "\n",
    "from selenium import webdriver\n",
    "from selenium.webdriver.chrome.service import Service as ChromeService\n",
    "from webdriver_manager.chrome import ChromeDriverManager\n",
    "from selenium.webdriver.common.by import By"
   ]
  },
  {
   "cell_type": "code",
   "execution_count": 3,
   "metadata": {},
   "outputs": [
    {
     "name": "stderr",
     "output_type": "stream",
     "text": [
      "[WDM] - Downloading: 100%|██████████| 7.95M/7.95M [00:00<00:00, 13.0MB/s]\n"
     ]
    }
   ],
   "source": [
    "# Start the browser\n",
    "\n",
    "driver = webdriver.Chrome(\n",
    "    service=ChromeService(ChromeDriverManager().install())\n",
    ")"
   ]
  },
  {
   "cell_type": "code",
   "execution_count": 4,
   "metadata": {},
   "outputs": [],
   "source": [
    "driver.get('https://bca.co.id/id/lokasi-bca')"
   ]
  },
  {
   "cell_type": "code",
   "execution_count": 26,
   "metadata": {},
   "outputs": [
    {
     "name": "stdout",
     "output_type": "stream",
     "text": [
      "4\n",
      "-6.1971113 106.8227999\n",
      "-6.1971113 106.8227999\n",
      "-6.1971113 106.8227999\n",
      "-6.1971113 106.8227999\n"
     ]
    }
   ],
   "source": [
    "items = driver.find_elements(by=By.XPATH, value=\"//div[@class='m-tabs-wrapper active-state atm']//div[@class='a-card shadow0 m-maps-location-container-wrapper']\")\n",
    "\n",
    "print(len(items))\n",
    "\n",
    "for item in items:\n",
    "    print(item.get_attribute(\"data-lat\"), item.get_attribute(\"data-long\"))"
   ]
  }
 ],
 "metadata": {
  "kernelspec": {
   "display_name": "Python 3",
   "language": "python",
   "name": "python3"
  },
  "language_info": {
   "codemirror_mode": {
    "name": "ipython",
    "version": 3
   },
   "file_extension": ".py",
   "mimetype": "text/x-python",
   "name": "python",
   "nbconvert_exporter": "python",
   "pygments_lexer": "ipython3",
   "version": "3.10.8"
  },
  "orig_nbformat": 4,
  "vscode": {
   "interpreter": {
    "hash": "aee8b7b246df8f9039afb4144a1f6fd8d2ca17a180786b69acc140d282b71a49"
   }
  }
 },
 "nbformat": 4,
 "nbformat_minor": 2
}
