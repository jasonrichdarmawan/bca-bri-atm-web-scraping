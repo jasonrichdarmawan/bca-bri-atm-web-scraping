{
  "cells": [
    {
      "cell_type": "code",
      "execution_count": 1,
      "metadata": {
        "id": "B6w9ytGfbzpL"
      },
      "outputs": [],
      "source": [
        "import requests\n",
        "import lxml.html\n",
        "\n",
        "import pandas as pd\n",
        "\n",
        "import os"
      ]
    },
    {
      "cell_type": "code",
      "execution_count": 2,
      "metadata": {
        "colab": {
          "base_uri": "https://localhost:8080/"
        },
        "id": "ZYXa7m0IcC79",
        "outputId": "92819bd2-db8a-4576-fcfb-2f8ec4e2d711"
      },
      "outputs": [
        {
          "data": {
            "text/plain": [
              "5000"
            ]
          },
          "execution_count": 2,
          "metadata": {},
          "output_type": "execute_result"
        }
      ],
      "source": [
        "formData = {\n",
        "    'model[Context]': 'atm',\n",
        "    'model[ContextId]': '{FD212863-182A-4B0B-8132-AE5502D655CF}',\n",
        "    'model[Page]': '1',\n",
        "    'model[PageSize]': '5000',\n",
        "    'model[Radius]': '5245',\n",
        "    'model[Latitude]': '-6.19171113',\n",
        "    'model[Longitude]': '106.8227999'\n",
        "}\n",
        "\n",
        "r = requests.post('https://www.bca.co.id/api/bca/lokasi/GetCard', data=formData)\n",
        "\n",
        "tree = lxml.html.fromstring(r.text)\n",
        "\n",
        "len(tree.xpath(\"//a[@class='show-route-maps']\"))"
      ]
    },
    {
      "cell_type": "code",
      "execution_count": 12,
      "metadata": {
        "colab": {
          "base_uri": "https://localhost:8080/",
          "height": 35
        },
        "id": "iFM221yMcvtZ",
        "outputId": "5cfb9b34-2c39-479f-ddf2-d25b8ccd6b3f"
      },
      "outputs": [
        {
          "data": {
            "application/vnd.google.colaboratory.intrinsic+json": {
              "type": "string"
            },
            "text/plain": [
              "'MRT BUNDARAN HOTEL INDONESIA 1'"
            ]
          },
          "execution_count": 12,
          "metadata": {},
          "output_type": "execute_result"
        }
      ],
      "source": [
        "tree.xpath(\"//p[@class='a-text a-text-subtitle a-text-ellipsis-single m-maps-location-container-wrapper-title']\")[0].text.strip()"
      ]
    },
    {
      "cell_type": "code",
      "execution_count": 11,
      "metadata": {
        "colab": {
          "base_uri": "https://localhost:8080/",
          "height": 35
        },
        "id": "ng45OX3pc9UN",
        "outputId": "46e67747-1d14-40c8-c788-455407956296"
      },
      "outputs": [
        {
          "data": {
            "application/vnd.google.colaboratory.intrinsic+json": {
              "type": "string"
            },
            "text/plain": [
              "'GONDANGDIA, KEC MENTENG, JAKARTA PUSAT'"
            ]
          },
          "execution_count": 11,
          "metadata": {},
          "output_type": "execute_result"
        }
      ],
      "source": [
        "tree.xpath(\"//p[@class='a-text a-text-body a-text-ellipsis-address m-maps-location-container-wrapper-address']\")[0].text.strip()"
      ]
    },
    {
      "cell_type": "code",
      "execution_count": 16,
      "metadata": {
        "colab": {
          "base_uri": "https://localhost:8080/"
        },
        "id": "rp0jBUTgdmbh",
        "outputId": "bfe4342f-528f-4035-d684-da746173a2a0"
      },
      "outputs": [
        {
          "data": {
            "text/plain": [
              "51"
            ]
          },
          "execution_count": 16,
          "metadata": {},
          "output_type": "execute_result"
        }
      ],
      "source": [
        "len('https://www.google.com/maps/dir/?api=1&destination=')"
      ]
    },
    {
      "cell_type": "code",
      "execution_count": 15,
      "metadata": {
        "colab": {
          "base_uri": "https://localhost:8080/"
        },
        "id": "bL_9diqOdBFK",
        "outputId": "01be4703-76b3-42e5-c689-8882a805c3a4"
      },
      "outputs": [
        {
          "data": {
            "text/plain": [
              "['-6.191577000', '106.823058000']"
            ]
          },
          "execution_count": 15,
          "metadata": {},
          "output_type": "execute_result"
        }
      ],
      "source": [
        "tree.xpath(\"//a[@class='show-route-maps']\")[0].attrib['href'][51:].split(',')"
      ]
    },
    {
      "cell_type": "code",
      "execution_count": 31,
      "metadata": {
        "id": "RfZ9SdLneAiD"
      },
      "outputs": [],
      "source": [
        "titles = [title.text.strip() for title in tree.xpath(\"//p[@class='a-text a-text-subtitle a-text-ellipsis-single m-maps-location-container-wrapper-title']\")]\n",
        "addresses = [address.text.strip() for address in tree.xpath(\"//p[@class='a-text a-text-body a-text-ellipsis-address m-maps-location-container-wrapper-address']\")]\n",
        "final_addresses = [f'{a} {b}' for a, b in zip(titles, addresses)]\n",
        "lats = [coordinate.attrib['href'][51:].split(',')[0] for coordinate in tree.xpath(\"//a[@class='show-route-maps']\")]\n",
        "lngs = [coordinate.attrib['href'][51:].split(',')[1] for coordinate in tree.xpath(\"//a[@class='show-route-maps']\")]"
      ]
    },
    {
      "cell_type": "code",
      "execution_count": 32,
      "metadata": {
        "colab": {
          "base_uri": "https://localhost:8080/"
        },
        "id": "Q6BZ2WE7eoG9",
        "outputId": "34d91a68-0e21-4f4b-9188-83d91c944821"
      },
      "outputs": [
        {
          "data": {
            "text/plain": [
              "(5000, 5000, 5000, 5000, 5000)"
            ]
          },
          "execution_count": 32,
          "metadata": {},
          "output_type": "execute_result"
        }
      ],
      "source": [
        "len(titles), len(addresses), len(final_addresses), len(lats), len(lngs)"
      ]
    },
    {
      "cell_type": "code",
      "execution_count": 36,
      "metadata": {
        "id": "aDrr2Q5sfSHj"
      },
      "outputs": [],
      "source": [
        "df = pd.DataFrame(data={'address': final_addresses, 'latitude': lats, 'longitude': lngs})\n",
        "df['Bank'] = 'BCA'\n",
        "df.to_csv('./bca/page1.csv', index=False)"
      ]
    },
    {
      "cell_type": "markdown",
      "metadata": {
        "id": "XWq0Fsrjdwyy"
      },
      "source": [
        "# Automated"
      ]
    },
    {
      "cell_type": "code",
      "execution_count": 37,
      "metadata": {
        "id": "l4JVYimSdrr_"
      },
      "outputs": [],
      "source": [
        "def get_lat_long(page: str):\n",
        "  formData = {\n",
        "      'model[Context]': 'atm',\n",
        "      'model[ContextId]': '{FD212863-182A-4B0B-8132-AE5502D655CF}',\n",
        "      'model[Page]': page,\n",
        "      'model[PageSize]': '5000',\n",
        "      'model[Radius]': '5245',\n",
        "      'model[Latitude]': '-6.19171113',\n",
        "      'model[Longitude]': '106.8227999'\n",
        "  }\n",
        "\n",
        "  r = requests.post('https://www.bca.co.id/api/bca/lokasi/GetCard', data=formData)\n",
        "\n",
        "  tree = lxml.html.fromstring(r.text)\n",
        "\n",
        "  titles = [title.text.strip() for title in tree.xpath(\"//p[@class='a-text a-text-subtitle a-text-ellipsis-single m-maps-location-container-wrapper-title']\")]\n",
        "  addresses = [address.text.strip() for address in tree.xpath(\"//p[@class='a-text a-text-body a-text-ellipsis-address m-maps-location-container-wrapper-address']\")]\n",
        "  final_addresses = [f'{a} {b}' for a, b in zip(titles, addresses)]\n",
        "  lats = [coordinate.attrib['href'][51:].split(',')[0] for coordinate in tree.xpath(\"//a[@class='show-route-maps']\")]\n",
        "  lngs = [coordinate.attrib['href'][51:].split(',')[1] for coordinate in tree.xpath(\"//a[@class='show-route-maps']\")]\n",
        "\n",
        "  print(len(titles), len(addresses), len(final_addresses), len(lats), len(lngs))\n",
        "\n",
        "  df = pd.DataFrame(data={'address': final_addresses, 'latitude': lats, 'longitude': lngs})\n",
        "  df['Bank'] = 'BCA'\n",
        "  df.to_csv(f'./bca/page{page}.csv', index=False)"
      ]
    },
    {
      "cell_type": "code",
      "execution_count": 41,
      "metadata": {
        "colab": {
          "base_uri": "https://localhost:8080/"
        },
        "id": "Fk5yp41EhStL",
        "outputId": "5110f922-4027-4cc8-88c2-0121b1282ae6"
      },
      "outputs": [
        {
          "name": "stdout",
          "output_type": "stream",
          "text": [
            "1166 1166 1166 1166 1166\n"
          ]
        }
      ],
      "source": [
        "get_lat_long(4)"
      ]
    },
    {
      "attachments": {},
      "cell_type": "markdown",
      "metadata": {},
      "source": [
        "# Combined"
      ]
    },
    {
      "cell_type": "code",
      "execution_count": 4,
      "metadata": {},
      "outputs": [],
      "source": [
        "df = pd.concat([pd.read_csv(f'./bca/{filepath}') for filepath in os.listdir('./bca/')])\n",
        "df.to_csv('./bca/final.csv', index=False)"
      ]
    }
  ],
  "metadata": {
    "colab": {
      "provenance": []
    },
    "kernelspec": {
      "display_name": "Python 3",
      "language": "python",
      "name": "python3"
    },
    "language_info": {
      "codemirror_mode": {
        "name": "ipython",
        "version": 3
      },
      "file_extension": ".py",
      "mimetype": "text/x-python",
      "name": "python",
      "nbconvert_exporter": "python",
      "pygments_lexer": "ipython3",
      "version": "3.10.8"
    },
    "vscode": {
      "interpreter": {
        "hash": "aee8b7b246df8f9039afb4144a1f6fd8d2ca17a180786b69acc140d282b71a49"
      }
    }
  },
  "nbformat": 4,
  "nbformat_minor": 0
}
